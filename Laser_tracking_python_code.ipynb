{
 "cells": [
  {
   "cell_type": "code",
   "execution_count": 1,
   "metadata": {},
   "outputs": [],
   "source": [
    "import keras\n",
    "from keras.models import Sequential\n",
    "from keras.layers import Dense, Conv2D , MaxPool2D , Flatten , Dropout \n",
    "from keras.preprocessing.image import ImageDataGenerator\n",
    "from keras.optimizers import Adam\n",
    "from keras.layers import BatchNormalization\n",
    "from keras.wrappers.scikit_learn import KerasClassifier\n",
    "import tensorflow as tf\n",
    "import cv2\n",
    "import os\n",
    "import numpy as np\n",
    "import seaborn as sns\n",
    "import matplotlib.pyplot as plt\n",
    "from matplotlib.animation import FuncAnimation\n",
    "import serial\n",
    "import time"
   ]
  },
  {
   "cell_type": "code",
   "execution_count": 22,
   "metadata": {},
   "outputs": [],
   "source": [
    "def detect_laser_points():\n",
    "    # Open the webcam\n",
    "    cap = cv2.VideoCapture(0)\n",
    "\n",
    "    # Check if the webcam is opened successfully\n",
    "    if not cap.isOpened():\n",
    "        print(\"Failed to open the webcam\")\n",
    "        return\n",
    "\n",
    "    while True:\n",
    "        # Read a frame from the webcam\n",
    "        ret, frame = cap.read()\n",
    "\n",
    "        # If the frame was not captured successfully, break the loop\n",
    "        if not ret:\n",
    "            print(\"Failed to capture frame from webcam\")\n",
    "            break\n",
    "\n",
    "        # Convert the frame to Gray scale image\n",
    "        gry = cv2.cvtColor(frame, cv2.COLOR_BGR2GRAY)\n",
    "\n",
    "        # defining the range or threshold\n",
    "        mask = cv2.inRange(gry, 225,255,cv2.THRESH_BINARY)\n",
    "        # Perform morphological operations to remove noise\n",
    "        mask = cv2.erode(mask, None, iterations=2)\n",
    "        mask = cv2.dilate(mask, None, iterations=2)\n",
    "\n",
    "        # Find contours in the masked image\n",
    "        contours, _ = cv2.findContours(mask.copy(), cv2.RETR_EXTERNAL, cv2.CHAIN_APPROX_SIMPLE)\n",
    "\n",
    "        # Process each contour\n",
    "        for contour in contours:\n",
    "            # Calculate the area of the contour\n",
    "            area = cv2.contourArea(contour)\n",
    "\n",
    "            # Filter out small contours\n",
    "            if area > 10000:\n",
    "                # Find the centroid of the contour\n",
    "                M = cv2.moments(contour)\n",
    "                centroid_x = int(M[\"m10\"] / M[\"m00\"])\n",
    "                centroid_y = int(M[\"m01\"] / M[\"m00\"])\n",
    "                data = f\"{centroid_x},{centroid_y}\\n\"\n",
    "                # Draw a circle at the centroid\n",
    "                cv2.circle(frame, (centroid_x, centroid_y), round((area/(np.pi))**0.5), (255, 255, 255), 2)\n",
    "                cv2.putText(frame,(str(centroid_x)+','+str(centroid_y)),(centroid_x+20,centroid_y+30),cv2.FONT_HERSHEY_COMPLEX,1,(0,255,0),2)\n",
    "                arduino.write(data.encode())\n",
    "        # Display the frame with laser points\n",
    "        cv2.imshow(\"Laser Point Detection\", frame)\n",
    "        time.sleep(0.005)\n",
    "        # Check for the 'q' key press to exit\n",
    "        if cv2.waitKey(1) & 0xFF == ord('q'):\n",
    "            break\n",
    "\n",
    "    # Release the webcam and close any open windows\n",
    "    cap.release()\n",
    "    cv2.destroyAllWindows()\n",
    "\n",
    "# Call the red laser point detection function\n",
    "arduino = serial.Serial('COM4', 9600)\n",
    "\n",
    "arduino.timeout=0.005\n",
    "detect_laser_points()\n",
    "arduino.close()"
   ]
  },
  {
   "cell_type": "code",
   "execution_count": null,
   "metadata": {},
   "outputs": [],
   "source": []
  },
  {
   "cell_type": "code",
   "execution_count": null,
   "metadata": {},
   "outputs": [],
   "source": []
  }
 ],
 "metadata": {
  "kernelspec": {
   "display_name": "Python 3.10.6 64-bit",
   "language": "python",
   "name": "python3"
  },
  "language_info": {
   "codemirror_mode": {
    "name": "ipython",
    "version": 3
   },
   "file_extension": ".py",
   "mimetype": "text/x-python",
   "name": "python",
   "nbconvert_exporter": "python",
   "pygments_lexer": "ipython3",
   "version": "3.11.3"
  },
  "orig_nbformat": 4,
  "vscode": {
   "interpreter": {
    "hash": "916dbcbb3f70747c44a77c7bcd40155683ae19c65e1c03b4aa3499c5328201f1"
   }
  }
 },
 "nbformat": 4,
 "nbformat_minor": 2
}
